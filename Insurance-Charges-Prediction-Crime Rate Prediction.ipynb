{
 "cells": [
  {
   "cell_type": "markdown",
   "id": "035cd43c",
   "metadata": {},
   "source": [
    "\n",
    "# **Machine Learning** \n",
    "\n",
    "- **1:** Insurance Charges Prediction (Regression)  \n",
    "- **2:** Crime Rate Prediction (SVM Classification + Regression Forecast)\n",
    "\n"
   ]
  },
  {
   "cell_type": "markdown",
   "id": "5bbd6b95",
   "metadata": {},
   "source": [
    "\n",
    "## ✅ Requirements\n",
    "- Write clean, well‑commented code.\n",
    "- **1:** Train multiple regression models (Linear Regression, Random Forest, XGBoost), evaluate with **MSE & R²**.  \n",
    "- **2:** Preprocess crimes data, **SVM classification** for crime‑prone areas and **Regression** for trend forecasting, and show visualizations including **missing‑data impact**.\n",
    "-**Streamlit** deploy.\n"
   ]
  },
  {
   "cell_type": "markdown",
   "id": "7f7a9093",
   "metadata": {},
   "source": [
    "\n",
    "## 🔗 Datasets (Kaggle)\n",
    "- Insurance charges: https://www.kaggle.com/datasets/thedevastator/prediction-of-insurance-charges-using-age-gender  \n",
    "- Indian crimes: https://www.kaggle.com/datasets/sudhanvahg/indian-crimes-dataset\n",
    "\n"
   ]
  },
  {
   "cell_type": "code",
   "execution_count": 34,
   "id": "38941a97",
   "metadata": {},
   "outputs": [],
   "source": [
    "\n",
    "import os, math, warnings, sys\n",
    "import numpy as np\n",
    "import pandas as pd\n",
    "from pathlib import Path\n",
    "\n",
    "warnings.filterwarnings(\"ignore\")\n",
    "\n",
    "RANDOM_STATE = 42\n",
    "np.random.seed(RANDOM_STATE)\n",
    "\n",
    "def describe_df(df, name=\"DataFrame\"):\n",
    "    print(f\"\\n{name}: shape={df.shape}\")\n",
    "    print(df.head(3))\n",
    "    print(\"\\nMissing values per column:\")\n",
    "    print(df.isna().sum().sort_values(ascending=False).head(20))\n"
   ]
  },
  {
   "cell_type": "markdown",
   "id": "d6203a3b",
   "metadata": {},
   "source": [
    "\n",
    "# 🧩  Insurance Charges Prediction (Regression)\n",
    "\n",
    "**Goal:** Predict insurance charges based on age, BMI, children, sex, smoker, region.  \n",
    "**Models:** LinearRegression, RandomForestRegressor, XGBRegressor (if installed).  \n",
    "**Metrics:** MSE and R².\n",
    "\n",
    "### 📂 Run Order – Insurance\n",
    "1) Set `INSURANCE_CSV` path  \n",
    "2) Load & EDA  \n",
    "3) Preprocess & Split  \n",
    "4) Train multiple models  \n",
    "5) Compare & visualize\n"
   ]
  },
  {
   "cell_type": "code",
   "execution_count": 35,
   "id": "1608daeb",
   "metadata": {},
   "outputs": [],
   "source": [
    "\n",
    "# 1) Set your CSV path. If you downloaded with Kaggle CLI, this likely is inside 'data/insurance/insurance.csv'\n",
    "INSURANCE_CSV = \"data/insurance.csv\"  # <-- change if needed\n",
    "\n",
    "# If file not found, fall back to prompting the user\n",
    "if not Path(INSURANCE_CSV).exists():\n",
    "    print(\"NOTE: Update INSURANCE_CSV to your local path. Example: 'insurance.csv'\")\n"
   ]
  },
  {
   "cell_type": "code",
   "execution_count": 36,
   "id": "b1866f6d",
   "metadata": {},
   "outputs": [
    {
     "name": "stdout",
     "output_type": "stream",
     "text": [
      "\n",
      "Insurance: shape=(1338, 8)\n",
      "   index  age     sex    bmi  children smoker     region     charges\n",
      "0      0   19  female  27.90         0    yes  southwest  16884.9240\n",
      "1      1   18    male  33.77         1     no  southeast   1725.5523\n",
      "2      2   28    male  33.00         3     no  southeast   4449.4620\n",
      "\n",
      "Missing values per column:\n",
      "index       0\n",
      "age         0\n",
      "sex         0\n",
      "bmi         0\n",
      "children    0\n",
      "smoker      0\n",
      "region      0\n",
      "charges     0\n",
      "dtype: int64\n"
     ]
    },
    {
     "data": {
      "application/vnd.microsoft.datawrangler.viewer.v0+json": {
       "columns": [
        {
         "name": "index",
         "rawType": "object",
         "type": "string"
        },
        {
         "name": "count",
         "rawType": "object",
         "type": "unknown"
        },
        {
         "name": "unique",
         "rawType": "object",
         "type": "unknown"
        },
        {
         "name": "top",
         "rawType": "object",
         "type": "unknown"
        },
        {
         "name": "freq",
         "rawType": "object",
         "type": "unknown"
        },
        {
         "name": "mean",
         "rawType": "object",
         "type": "unknown"
        },
        {
         "name": "std",
         "rawType": "object",
         "type": "unknown"
        },
        {
         "name": "min",
         "rawType": "object",
         "type": "unknown"
        },
        {
         "name": "25%",
         "rawType": "object",
         "type": "unknown"
        },
        {
         "name": "50%",
         "rawType": "object",
         "type": "unknown"
        },
        {
         "name": "75%",
         "rawType": "object",
         "type": "unknown"
        },
        {
         "name": "max",
         "rawType": "object",
         "type": "unknown"
        }
       ],
       "ref": "caa4ff40-fd57-4386-b53c-a4da759c32bd",
       "rows": [
        [
         "index",
         "1338.0",
         null,
         null,
         null,
         "668.5",
         "386.39164069632767",
         "0.0",
         "334.25",
         "668.5",
         "1002.75",
         "1337.0"
        ],
        [
         "age",
         "1338.0",
         null,
         null,
         null,
         "39.20702541106129",
         "14.049960379216154",
         "18.0",
         "27.0",
         "39.0",
         "51.0",
         "64.0"
        ],
        [
         "sex",
         "1338",
         "2",
         "male",
         "676",
         null,
         null,
         null,
         null,
         null,
         null,
         null
        ],
        [
         "bmi",
         "1338.0",
         null,
         null,
         null,
         "30.66339686098655",
         "6.098186911679014",
         "15.96",
         "26.29625",
         "30.4",
         "34.69375",
         "53.13"
        ],
        [
         "children",
         "1338.0",
         null,
         null,
         null,
         "1.0949177877429",
         "1.205492739781914",
         "0.0",
         "0.0",
         "1.0",
         "2.0",
         "5.0"
        ],
        [
         "smoker",
         "1338",
         "2",
         "no",
         "1064",
         null,
         null,
         null,
         null,
         null,
         null,
         null
        ],
        [
         "region",
         "1338",
         "4",
         "southeast",
         "364",
         null,
         null,
         null,
         null,
         null,
         null,
         null
        ],
        [
         "charges",
         "1338.0",
         null,
         null,
         null,
         "13270.422265141257",
         "12110.011236694001",
         "1121.8739",
         "4740.28715",
         "9382.033",
         "16639.912515",
         "63770.42801"
        ]
       ],
       "shape": {
        "columns": 11,
        "rows": 8
       }
      },
      "text/html": [
       "<div>\n",
       "<style scoped>\n",
       "    .dataframe tbody tr th:only-of-type {\n",
       "        vertical-align: middle;\n",
       "    }\n",
       "\n",
       "    .dataframe tbody tr th {\n",
       "        vertical-align: top;\n",
       "    }\n",
       "\n",
       "    .dataframe thead th {\n",
       "        text-align: right;\n",
       "    }\n",
       "</style>\n",
       "<table border=\"1\" class=\"dataframe\">\n",
       "  <thead>\n",
       "    <tr style=\"text-align: right;\">\n",
       "      <th></th>\n",
       "      <th>count</th>\n",
       "      <th>unique</th>\n",
       "      <th>top</th>\n",
       "      <th>freq</th>\n",
       "      <th>mean</th>\n",
       "      <th>std</th>\n",
       "      <th>min</th>\n",
       "      <th>25%</th>\n",
       "      <th>50%</th>\n",
       "      <th>75%</th>\n",
       "      <th>max</th>\n",
       "    </tr>\n",
       "  </thead>\n",
       "  <tbody>\n",
       "    <tr>\n",
       "      <th>index</th>\n",
       "      <td>1338.0</td>\n",
       "      <td>NaN</td>\n",
       "      <td>NaN</td>\n",
       "      <td>NaN</td>\n",
       "      <td>668.5</td>\n",
       "      <td>386.391641</td>\n",
       "      <td>0.0</td>\n",
       "      <td>334.25</td>\n",
       "      <td>668.5</td>\n",
       "      <td>1002.75</td>\n",
       "      <td>1337.0</td>\n",
       "    </tr>\n",
       "    <tr>\n",
       "      <th>age</th>\n",
       "      <td>1338.0</td>\n",
       "      <td>NaN</td>\n",
       "      <td>NaN</td>\n",
       "      <td>NaN</td>\n",
       "      <td>39.207025</td>\n",
       "      <td>14.04996</td>\n",
       "      <td>18.0</td>\n",
       "      <td>27.0</td>\n",
       "      <td>39.0</td>\n",
       "      <td>51.0</td>\n",
       "      <td>64.0</td>\n",
       "    </tr>\n",
       "    <tr>\n",
       "      <th>sex</th>\n",
       "      <td>1338</td>\n",
       "      <td>2</td>\n",
       "      <td>male</td>\n",
       "      <td>676</td>\n",
       "      <td>NaN</td>\n",
       "      <td>NaN</td>\n",
       "      <td>NaN</td>\n",
       "      <td>NaN</td>\n",
       "      <td>NaN</td>\n",
       "      <td>NaN</td>\n",
       "      <td>NaN</td>\n",
       "    </tr>\n",
       "    <tr>\n",
       "      <th>bmi</th>\n",
       "      <td>1338.0</td>\n",
       "      <td>NaN</td>\n",
       "      <td>NaN</td>\n",
       "      <td>NaN</td>\n",
       "      <td>30.663397</td>\n",
       "      <td>6.098187</td>\n",
       "      <td>15.96</td>\n",
       "      <td>26.29625</td>\n",
       "      <td>30.4</td>\n",
       "      <td>34.69375</td>\n",
       "      <td>53.13</td>\n",
       "    </tr>\n",
       "    <tr>\n",
       "      <th>children</th>\n",
       "      <td>1338.0</td>\n",
       "      <td>NaN</td>\n",
       "      <td>NaN</td>\n",
       "      <td>NaN</td>\n",
       "      <td>1.094918</td>\n",
       "      <td>1.205493</td>\n",
       "      <td>0.0</td>\n",
       "      <td>0.0</td>\n",
       "      <td>1.0</td>\n",
       "      <td>2.0</td>\n",
       "      <td>5.0</td>\n",
       "    </tr>\n",
       "    <tr>\n",
       "      <th>smoker</th>\n",
       "      <td>1338</td>\n",
       "      <td>2</td>\n",
       "      <td>no</td>\n",
       "      <td>1064</td>\n",
       "      <td>NaN</td>\n",
       "      <td>NaN</td>\n",
       "      <td>NaN</td>\n",
       "      <td>NaN</td>\n",
       "      <td>NaN</td>\n",
       "      <td>NaN</td>\n",
       "      <td>NaN</td>\n",
       "    </tr>\n",
       "    <tr>\n",
       "      <th>region</th>\n",
       "      <td>1338</td>\n",
       "      <td>4</td>\n",
       "      <td>southeast</td>\n",
       "      <td>364</td>\n",
       "      <td>NaN</td>\n",
       "      <td>NaN</td>\n",
       "      <td>NaN</td>\n",
       "      <td>NaN</td>\n",
       "      <td>NaN</td>\n",
       "      <td>NaN</td>\n",
       "      <td>NaN</td>\n",
       "    </tr>\n",
       "    <tr>\n",
       "      <th>charges</th>\n",
       "      <td>1338.0</td>\n",
       "      <td>NaN</td>\n",
       "      <td>NaN</td>\n",
       "      <td>NaN</td>\n",
       "      <td>13270.422265</td>\n",
       "      <td>12110.011237</td>\n",
       "      <td>1121.8739</td>\n",
       "      <td>4740.28715</td>\n",
       "      <td>9382.033</td>\n",
       "      <td>16639.912515</td>\n",
       "      <td>63770.42801</td>\n",
       "    </tr>\n",
       "  </tbody>\n",
       "</table>\n",
       "</div>"
      ],
      "text/plain": [
       "           count unique        top  freq          mean           std  \\\n",
       "index     1338.0    NaN        NaN   NaN         668.5    386.391641   \n",
       "age       1338.0    NaN        NaN   NaN     39.207025      14.04996   \n",
       "sex         1338      2       male   676           NaN           NaN   \n",
       "bmi       1338.0    NaN        NaN   NaN     30.663397      6.098187   \n",
       "children  1338.0    NaN        NaN   NaN      1.094918      1.205493   \n",
       "smoker      1338      2         no  1064           NaN           NaN   \n",
       "region      1338      4  southeast   364           NaN           NaN   \n",
       "charges   1338.0    NaN        NaN   NaN  13270.422265  12110.011237   \n",
       "\n",
       "                min         25%       50%           75%          max  \n",
       "index           0.0      334.25     668.5       1002.75       1337.0  \n",
       "age            18.0        27.0      39.0          51.0         64.0  \n",
       "sex             NaN         NaN       NaN           NaN          NaN  \n",
       "bmi           15.96    26.29625      30.4      34.69375        53.13  \n",
       "children        0.0         0.0       1.0           2.0          5.0  \n",
       "smoker          NaN         NaN       NaN           NaN          NaN  \n",
       "region          NaN         NaN       NaN           NaN          NaN  \n",
       "charges   1121.8739  4740.28715  9382.033  16639.912515  63770.42801  "
      ]
     },
     "metadata": {},
     "output_type": "display_data"
    }
   ],
   "source": [
    "\n",
    "# 2) Load & EDA\n",
    "import pandas as pd\n",
    "\n",
    "try:\n",
    "    ins = pd.read_csv(INSURANCE_CSV)\n",
    "except Exception as e:\n",
    "    print(\"Could not read CSV at:\", INSURANCE_CSV, \"| Error:\", e)\n",
    "    ins = pd.DataFrame()\n",
    "\n",
    "if not ins.empty:\n",
    "    describe_df(ins, \"Insurance\")\n",
    "    # Quick numeric summary\n",
    "    display(ins.describe(include='all').T.head(15))\n"
   ]
  },
  {
   "cell_type": "code",
   "execution_count": 37,
   "id": "b082ccd0",
   "metadata": {},
   "outputs": [
    {
     "name": "stdout",
     "output_type": "stream",
     "text": [
      "Dropping junk columns: ['index']\n",
      "Training on columns: ['age', 'sex', 'bmi', 'children', 'smoker', 'region']\n",
      "Train/Test shapes: (1070, 6) (268, 6)\n"
     ]
    }
   ],
   "source": [
    "# 3) Preprocess & Split  —— PLACE THIS BEFORE TRAINING!\n",
    "from sklearn.model_selection import train_test_split\n",
    "from sklearn.compose import ColumnTransformer\n",
    "from sklearn.preprocessing import OneHotEncoder, StandardScaler\n",
    "\n",
    "assert not ins.empty, \"Load the CSV first.\"\n",
    "\n",
    "target = \"charges\"\n",
    "X = ins.drop(columns=[target]).copy()\n",
    "y = ins[target].copy()\n",
    "\n",
    "# 🔧 Drop junk columns that sneak in from CSVs\n",
    "junk_like = {\"index\", \"unnamed: 0\", \"unnamed: 1\", \"unnamed: 0.1\"}\n",
    "drop_cols = [c for c in X.columns if c.strip().lower() in junk_like]\n",
    "if drop_cols:\n",
    "    print(\"Dropping junk columns:\", drop_cols)\n",
    "    X = X.drop(columns=drop_cols)\n",
    "\n",
    "# Optional sanity check\n",
    "print(\"Training on columns:\", list(X.columns))\n",
    "\n",
    "# Identify categorical & numeric\n",
    "cat_cols = X.select_dtypes(include=['object','category']).columns.tolist()\n",
    "num_cols = X.select_dtypes(include=[np.number]).columns.tolist()\n",
    "\n",
    "pre = ColumnTransformer([\n",
    "    (\"cat\", OneHotEncoder(handle_unknown=\"ignore\"), cat_cols),\n",
    "    (\"num\", StandardScaler(), num_cols)\n",
    "])\n",
    "\n",
    "X_train, X_test, y_train, y_test = train_test_split(\n",
    "    X, y, test_size=0.2, random_state=RANDOM_STATE\n",
    ")\n",
    "print(\"Train/Test shapes:\", X_train.shape, X_test.shape)\n"
   ]
  },
  {
   "cell_type": "code",
   "execution_count": 38,
   "id": "0584d9df",
   "metadata": {},
   "outputs": [
    {
     "name": "stdout",
     "output_type": "stream",
     "text": [
      "Training models...\n",
      "    LinearRegression | MSE=33596915.85  R2=0.7836\n",
      "        RandomForest | MSE=21287797.30  R2=0.8629\n",
      "        XGBRegressor | MSE=22667683.95  R2=0.8540\n"
     ]
    }
   ],
   "source": [
    "\n",
    "# 4) Train multiple models\n",
    "from sklearn.pipeline import Pipeline\n",
    "from sklearn.linear_model import LinearRegression\n",
    "from sklearn.ensemble import RandomForestRegressor\n",
    "from sklearn.metrics import mean_squared_error, r2_score\n",
    "\n",
    "results = []\n",
    "\n",
    "def eval_reg(model_name, model, Xtr, Xte, ytr, yte):\n",
    "    model.fit(Xtr, ytr)\n",
    "    pred = model.predict(Xte)\n",
    "    mse = mean_squared_error(yte, pred)\n",
    "    r2 = r2_score(yte, pred)\n",
    "    results.append({\"model\": model_name, \"MSE\": mse, \"R2\": r2})\n",
    "    print(f\"{model_name:>20} | MSE={mse:.2f}  R2={r2:.4f}\")\n",
    "    return model, pred\n",
    "\n",
    "if not ins.empty:\n",
    "    pipe_lr = Pipeline([(\"pre\", pre), (\"est\", LinearRegression())])\n",
    "    pipe_rf = Pipeline([(\"pre\", pre), (\"est\", RandomForestRegressor(n_estimators=300, random_state=RANDOM_STATE))])\n",
    "\n",
    "    print(\"Training models...\")\n",
    "    m_lr, pred_lr = eval_reg(\"LinearRegression\", pipe_lr, X_train, X_test, y_train, y_test)\n",
    "    m_rf, pred_rf = eval_reg(\"RandomForest\",    pipe_rf, X_train, X_test, y_train, y_test)\n",
    "\n",
    "    # Try XGBoost if available\n",
    "    try:\n",
    "        from xgboost import XGBRegressor\n",
    "        pipe_xgb = Pipeline([(\"pre\", pre), (\"est\", XGBRegressor(n_estimators=600, max_depth=5, learning_rate=0.05,\n",
    "                                                                subsample=0.9, colsample_bytree=0.8,\n",
    "                                                                random_state=RANDOM_STATE, n_jobs=-1))])\n",
    "        m_xgb, pred_xgb = eval_reg(\"XGBRegressor\", pipe_xgb, X_train, X_test, y_train, y_test)\n",
    "    except Exception as e:\n",
    "        print(\"XGBoost not installed or failed to import. Skipping XGB. Error:\", e)\n"
   ]
  },
  {
   "cell_type": "code",
   "execution_count": 39,
   "id": "959675cd",
   "metadata": {},
   "outputs": [
    {
     "data": {
      "application/vnd.microsoft.datawrangler.viewer.v0+json": {
       "columns": [
        {
         "name": "index",
         "rawType": "int64",
         "type": "integer"
        },
        {
         "name": "model",
         "rawType": "object",
         "type": "string"
        },
        {
         "name": "MSE",
         "rawType": "float64",
         "type": "float"
        },
        {
         "name": "R2",
         "rawType": "float64",
         "type": "float"
        }
       ],
       "ref": "0b2131da-292f-4247-be3c-00f5da19649b",
       "rows": [
        [
         "1",
         "RandomForest",
         "21287797.298632767",
         "0.8628794123206038"
        ],
        [
         "2",
         "XGBRegressor",
         "22667683.952517316",
         "0.8539911808959388"
        ],
        [
         "0",
         "LinearRegression",
         "33596915.85136146",
         "0.7835929767120723"
        ]
       ],
       "shape": {
        "columns": 3,
        "rows": 3
       }
      },
      "text/html": [
       "<div>\n",
       "<style scoped>\n",
       "    .dataframe tbody tr th:only-of-type {\n",
       "        vertical-align: middle;\n",
       "    }\n",
       "\n",
       "    .dataframe tbody tr th {\n",
       "        vertical-align: top;\n",
       "    }\n",
       "\n",
       "    .dataframe thead th {\n",
       "        text-align: right;\n",
       "    }\n",
       "</style>\n",
       "<table border=\"1\" class=\"dataframe\">\n",
       "  <thead>\n",
       "    <tr style=\"text-align: right;\">\n",
       "      <th></th>\n",
       "      <th>model</th>\n",
       "      <th>MSE</th>\n",
       "      <th>R2</th>\n",
       "    </tr>\n",
       "  </thead>\n",
       "  <tbody>\n",
       "    <tr>\n",
       "      <th>1</th>\n",
       "      <td>RandomForest</td>\n",
       "      <td>2.128780e+07</td>\n",
       "      <td>0.862879</td>\n",
       "    </tr>\n",
       "    <tr>\n",
       "      <th>2</th>\n",
       "      <td>XGBRegressor</td>\n",
       "      <td>2.266768e+07</td>\n",
       "      <td>0.853991</td>\n",
       "    </tr>\n",
       "    <tr>\n",
       "      <th>0</th>\n",
       "      <td>LinearRegression</td>\n",
       "      <td>3.359692e+07</td>\n",
       "      <td>0.783593</td>\n",
       "    </tr>\n",
       "  </tbody>\n",
       "</table>\n",
       "</div>"
      ],
      "text/plain": [
       "              model           MSE        R2\n",
       "1      RandomForest  2.128780e+07  0.862879\n",
       "2      XGBRegressor  2.266768e+07  0.853991\n",
       "0  LinearRegression  3.359692e+07  0.783593"
      ]
     },
     "metadata": {},
     "output_type": "display_data"
    },
    {
     "data": {
      "image/png": "[encoded data removed]",
      "text/plain": [
       "<Figure size 640x480 with 1 Axes>"
      ]
     },
     "metadata": {},
     "output_type": "display_data"
    },
    {
     "data": {
      "image/png": "[encoded data removed]",
      "text/plain": [
       "<Figure size 640x480 with 1 Axes>"
      ]
     },
     "metadata": {},
     "output_type": "display_data"
    }
   ],
   "source": [
    "\n",
    "# 5) Compare & visualize results\n",
    "import pandas as pd\n",
    "import matplotlib.pyplot as plt\n",
    "\n",
    "if results:\n",
    "    df_res = pd.DataFrame(results).sort_values(\"MSE\")\n",
    "    display(df_res)\n",
    "\n",
    "    # MSE bar\n",
    "    plt.figure()\n",
    "    plt.bar(df_res[\"model\"], df_res[\"MSE\"])\n",
    "    plt.title(\"Insurance: Model MSE (lower is better)\")\n",
    "    plt.xlabel(\"Model\")\n",
    "    plt.ylabel(\"MSE\")\n",
    "    plt.show()\n",
    "\n",
    "    # R2 bar\n",
    "    plt.figure()\n",
    "    plt.bar(df_res[\"model\"], df_res[\"R2\"])\n",
    "    plt.title(\"Insurance: Model R² (higher is better)\")\n",
    "    plt.xlabel(\"Model\")\n",
    "    plt.ylabel(\"R²\")\n",
    "    plt.show()\n"
   ]
  },
  {
   "cell_type": "code",
   "execution_count": 40,
   "id": "eea80507",
   "metadata": {},
   "outputs": [
    {
     "name": "stdout",
     "output_type": "stream",
     "text": [
      "Best by MSE: RandomForest\n",
      "Saved: models/insurance_best.joblib\n"
     ]
    }
   ],
   "source": [
    "# 6 Pick the best by lowest MSE and save it\n",
    "import os, joblib\n",
    "os.makedirs(\"models\", exist_ok=True)\n",
    "\n",
    "best = min(results, key=lambda r: r[\"MSE\"])\n",
    "best_name = best[\"model\"]\n",
    "print(\"Best by MSE:\", best_name)\n",
    "\n",
    "name_to_model = {\"LinearRegression\": m_lr, \"RandomForest\": m_rf}\n",
    "try: name_to_model[\"XGBRegressor\"] = m_xgb\n",
    "except NameError: pass\n",
    "\n",
    "best_model = name_to_model[best_name]\n",
    "joblib.dump(best_model, \"models/insurance_best.joblib\")\n",
    "print(\"Saved: models/insurance_best.joblib\")\n"
   ]
  },
  {
   "cell_type": "markdown",
   "id": "0d6f8e0a",
   "metadata": {},
   "source": [
    "\n",
    "### 🚀(Streamlit quick start)\n",
    "Create a `streamlit_app.py` \n",
    "\n",
    "```python\n",
    "import streamlit as st\n",
    "import pandas as pd\n",
    "import joblib\n",
    "from pathlib import Path\n",
    "\n",
    "st.title(\"Insurance Charges Predictor\")\n",
    "\n",
    "MODEL_PATH = Path(\"models/insurance_best.joblib\")\n",
    "\n",
    "# Load trained pipeline (preprocessing + model)\n",
    "model = None\n",
    "if MODEL_PATH.exists():\n",
    "    model = joblib.load(MODEL_PATH)\n",
    "else:\n",
    "    st.warning(\"Model file not found. Train and save the model first (see notebook).\")\n",
    "\n",
    "# --- UI inputs ---\n",
    "age = st.number_input(\"Age\", min_value=18, max_value=100, value=30)\n",
    "sex = st.selectbox(\"Sex\", [\"male\", \"female\"])\n",
    "bmi = st.number_input(\"BMI\", min_value=10.0, max_value=60.0, value=25.01, step=0.01, format=\"%.2f\")\n",
    "children = st.number_input(\"Children\", min_value=0, max_value=5, value=1)\n",
    "smoker = st.selectbox(\"Smoker\", [\"yes\", \"no\"])\n",
    "region = st.selectbox(\"Region\", [\"southwest\",\"southeast\",\"northwest\",\"northeast\"])\n",
    "\n",
    "X = pd.DataFrame([{\n",
    "    \"age\": age,\n",
    "    \"sex\": sex,\n",
    "    \"bmi\": bmi,\n",
    "    \"children\": children,\n",
    "    \"smoker\": smoker,\n",
    "    \"region\": region\n",
    "}])\n",
    "\n",
    "st.subheader(\"Your input\")\n",
    "st.write(X)\n",
    "\n",
    "if model is None:\n",
    "    st.stop()\n",
    "\n",
    "if st.button(\"Predict charges\"):\n",
    "    try:\n",
    "        y_pred = model.predict(X)[0]\n",
    "        st.success(f\"Estimated Charges: **${y_pred:,.2f}**\")\n",
    "    except Exception as e:\n",
    "        st.error(f\"Prediction failed: {e}\")\n",
    "\n",
    "\n",
    "```\n",
    "\n",
    "Run: `streamlit run streamlit_app.py`\n"
   ]
  },
  {
   "cell_type": "markdown",
   "id": "5ebbe076",
   "metadata": {
    "notebookRunGroups": {
     "groupValue": "1"
    }
   },
   "source": [
    "\n",
    "# 🧩 Crime Rate Prediction (SVM + Regression)\n",
    "\n",
    "**Goal:**  \n",
    "1) **Classification** — Label regions as *crime‑prone* (top quartile) vs others and train an **SVM**.  \n",
    "2) **Forecasting** — Aggregate crimes by time (e.g., year or month) and fit a **regression** model to predict totals.  \n",
    "3) **Visualize** missing‑data impact and trends.\n",
    "\n",
    ">  Columns vary by dataset version. The code  it searches for common column names.\n"
   ]
  },
  {
   "cell_type": "code",
   "execution_count": 58,
   "id": "638cc55b",
   "metadata": {},
   "outputs": [],
   "source": [
    "\n",
    "# 1) Set your crimes CSV path — adjust to your extracted file location.\n",
    "# Commonly something like 'data/crime/indian_crimes.csv' or similar.\n",
    "CRIME_CSV = \"data/indian_crimes.csv\"  # set your actual path\n",
    "import pandas as pd, numpy as np, matplotlib.pyplot as plt\n",
    "from pathlib import Path\n"
   ]
  },
  {
   "cell_type": "markdown",
   "id": "d3bcb746",
   "metadata": {},
   "source": [
    "Load & Column Normalization\n",
    "\n",
    "Purpose: consistent lowercase snake_case names."
   ]
  },
  {
   "cell_type": "code",
   "execution_count": 59,
   "id": "67dcf12c",
   "metadata": {},
   "outputs": [
    {
     "name": "stdout",
     "output_type": "stream",
     "text": [
      "Columns: ['report_number', 'date_reported', 'date_of_occurrence', 'time_of_occurrence', 'city', 'crime_code', 'crime_description', 'victim_age', 'victim_gender', 'weapon_used', 'crime_domain', 'police_deployed', 'case_closed', 'date_case_closed']\n"
     ]
    },
    {
     "data": {
      "application/vnd.microsoft.datawrangler.viewer.v0+json": {
       "columns": [
        {
         "name": "index",
         "rawType": "int64",
         "type": "integer"
        },
        {
         "name": "report_number",
         "rawType": "int64",
         "type": "integer"
        },
        {
         "name": "date_reported",
         "rawType": "object",
         "type": "string"
        },
        {
         "name": "date_of_occurrence",
         "rawType": "object",
         "type": "string"
        },
        {
         "name": "time_of_occurrence",
         "rawType": "object",
         "type": "string"
        },
        {
         "name": "city",
         "rawType": "object",
         "type": "string"
        },
        {
         "name": "crime_code",
         "rawType": "int64",
         "type": "integer"
        },
        {
         "name": "crime_description",
         "rawType": "object",
         "type": "string"
        },
        {
         "name": "victim_age",
         "rawType": "int64",
         "type": "integer"
        },
        {
         "name": "victim_gender",
         "rawType": "object",
         "type": "string"
        },
        {
         "name": "weapon_used",
         "rawType": "object",
         "type": "string"
        },
        {
         "name": "crime_domain",
         "rawType": "object",
         "type": "string"
        },
        {
         "name": "police_deployed",
         "rawType": "int64",
         "type": "integer"
        },
        {
         "name": "case_closed",
         "rawType": "object",
         "type": "string"
        },
        {
         "name": "date_case_closed",
         "rawType": "object",
         "type": "unknown"
        }
       ],
       "ref": "b6747619-6d9f-4b96-9804-ff458f29a767",
       "rows": [
        [
         "0",
         "1",
         "02-01-2020 00:00",
         "01-01-2020 00:00",
         "01-01-2020 01:11",
         "Ahmedabad",
         "576",
         "IDENTITY THEFT",
         "16",
         "M",
         "Blunt Object",
         "Violent Crime",
         "13",
         "No",
         null
        ],
        [
         "1",
         "2",
         "01-01-2020 19:00",
         "01-01-2020 01:00",
         "01-01-2020 06:26",
         "Chennai",
         "128",
         "HOMICIDE",
         "37",
         "M",
         "Poison",
         "Other Crime",
         "9",
         "No",
         null
        ],
        [
         "2",
         "3",
         "02-01-2020 05:00",
         "01-01-2020 02:00",
         "01-01-2020 14:30",
         "Ludhiana",
         "271",
         "KIDNAPPING",
         "48",
         "F",
         "Blunt Object",
         "Other Crime",
         "15",
         "No",
         null
        ]
       ],
       "shape": {
        "columns": 14,
        "rows": 3
       }
      },
      "text/html": [
       "<div>\n",
       "<style scoped>\n",
       "    .dataframe tbody tr th:only-of-type {\n",
       "        vertical-align: middle;\n",
       "    }\n",
       "\n",
       "    .dataframe tbody tr th {\n",
       "        vertical-align: top;\n",
       "    }\n",
       "\n",
       "    .dataframe thead th {\n",
       "        text-align: right;\n",
       "    }\n",
       "</style>\n",
       "<table border=\"1\" class=\"dataframe\">\n",
       "  <thead>\n",
       "    <tr style=\"text-align: right;\">\n",
       "      <th></th>\n",
       "      <th>report_number</th>\n",
       "      <th>date_reported</th>\n",
       "      <th>date_of_occurrence</th>\n",
       "      <th>time_of_occurrence</th>\n",
       "      <th>city</th>\n",
       "      <th>crime_code</th>\n",
       "      <th>crime_description</th>\n",
       "      <th>victim_age</th>\n",
       "      <th>victim_gender</th>\n",
       "      <th>weapon_used</th>\n",
       "      <th>crime_domain</th>\n",
       "      <th>police_deployed</th>\n",
       "      <th>case_closed</th>\n",
       "      <th>date_case_closed</th>\n",
       "    </tr>\n",
       "  </thead>\n",
       "  <tbody>\n",
       "    <tr>\n",
       "      <th>0</th>\n",
       "      <td>1</td>\n",
       "      <td>02-01-2020 00:00</td>\n",
       "      <td>01-01-2020 00:00</td>\n",
       "      <td>01-01-2020 01:11</td>\n",
       "      <td>Ahmedabad</td>\n",
       "      <td>576</td>\n",
       "      <td>IDENTITY THEFT</td>\n",
       "      <td>16</td>\n",
       "      <td>M</td>\n",
       "      <td>Blunt Object</td>\n",
       "      <td>Violent Crime</td>\n",
       "      <td>13</td>\n",
       "      <td>No</td>\n",
       "      <td>NaN</td>\n",
       "    </tr>\n",
       "    <tr>\n",
       "      <th>1</th>\n",
       "      <td>2</td>\n",
       "      <td>01-01-2020 19:00</td>\n",
       "      <td>01-01-2020 01:00</td>\n",
       "      <td>01-01-2020 06:26</td>\n",
       "      <td>Chennai</td>\n",
       "      <td>128</td>\n",
       "      <td>HOMICIDE</td>\n",
       "      <td>37</td>\n",
       "      <td>M</td>\n",
       "      <td>Poison</td>\n",
       "      <td>Other Crime</td>\n",
       "      <td>9</td>\n",
       "      <td>No</td>\n",
       "      <td>NaN</td>\n",
       "    </tr>\n",
       "    <tr>\n",
       "      <th>2</th>\n",
       "      <td>3</td>\n",
       "      <td>02-01-2020 05:00</td>\n",
       "      <td>01-01-2020 02:00</td>\n",
       "      <td>01-01-2020 14:30</td>\n",
       "      <td>Ludhiana</td>\n",
       "      <td>271</td>\n",
       "      <td>KIDNAPPING</td>\n",
       "      <td>48</td>\n",
       "      <td>F</td>\n",
       "      <td>Blunt Object</td>\n",
       "      <td>Other Crime</td>\n",
       "      <td>15</td>\n",
       "      <td>No</td>\n",
       "      <td>NaN</td>\n",
       "    </tr>\n",
       "  </tbody>\n",
       "</table>\n",
       "</div>"
      ],
      "text/plain": [
       "   report_number     date_reported date_of_occurrence time_of_occurrence  \\\n",
       "0              1  02-01-2020 00:00   01-01-2020 00:00   01-01-2020 01:11   \n",
       "1              2  01-01-2020 19:00   01-01-2020 01:00   01-01-2020 06:26   \n",
       "2              3  02-01-2020 05:00   01-01-2020 02:00   01-01-2020 14:30   \n",
       "\n",
       "        city  crime_code crime_description  victim_age victim_gender  \\\n",
       "0  Ahmedabad         576    IDENTITY THEFT          16             M   \n",
       "1    Chennai         128          HOMICIDE          37             M   \n",
       "2   Ludhiana         271        KIDNAPPING          48             F   \n",
       "\n",
       "    weapon_used   crime_domain  police_deployed case_closed date_case_closed  \n",
       "0  Blunt Object  Violent Crime               13          No              NaN  \n",
       "1        Poison    Other Crime                9          No              NaN  \n",
       "2  Blunt Object    Other Crime               15          No              NaN  "
      ]
     },
     "execution_count": 59,
     "metadata": {},
     "output_type": "execute_result"
    }
   ],
   "source": [
    "crime = pd.read_csv(CRIME_CSV)\n",
    "crime.columns = [c.strip().lower().replace(\" \", \"_\") for c in crime.columns]\n",
    "print(\"Columns:\", list(crime.columns)[:20])\n",
    "crime.head(3)\n"
   ]
  },
  {
   "cell_type": "markdown",
   "id": "25e85dea",
   "metadata": {},
   "source": [
    "Time Parsing → year, month\n",
    "\n",
    "Purpose: avoid the fake year_idx fallback. Parse dates to real year/month."
   ]
  },
  {
   "cell_type": "code",
   "execution_count": 60,
   "id": "65f38898",
   "metadata": {},
   "outputs": [],
   "source": [
    "# Pick a usable date column present in your file:\n",
    "date_cols_try = [\"date_reported\",\"date_of_occurrence\",\"date_case_closed\"]\n",
    "dt = None\n",
    "for c in date_cols_try:\n",
    "    if c in crime.columns:\n",
    "        dt = pd.to_datetime(crime[c], dayfirst=True, errors=\"coerce\")\n",
    "        if dt.notna().any(): \n",
    "            break\n",
    "\n",
    "assert dt is not None, \"No parseable date column found. Check CSV.\"\n",
    "\n",
    "crime[\"year\"]  = dt.dt.year\n",
    "crime[\"month\"] = dt.dt.month\n",
    "crime = crime[crime[\"year\"].notna()]  # drop rows with no year\n",
    "crime[\"year\"] = crime[\"year\"].astype(int)\n"
   ]
  },
  {
   "cell_type": "markdown",
   "id": "f3fe99e6",
   "metadata": {},
   "source": [
    "Missing-Data Impact (Before)\n",
    "\n",
    "Purpose: required visual per brief."
   ]
  },
  {
   "cell_type": "code",
   "execution_count": 61,
   "id": "b673738c",
   "metadata": {},
   "outputs": [
    {
     "data": {
      "image/png": "[encoded data removed]",
      "text/plain": [
       "<Figure size 640x480 with 1 Axes>"
      ]
     },
     "metadata": {},
     "output_type": "display_data"
    }
   ],
   "source": [
    "miss = crime.isna().mean().sort_values(ascending=False).head(20)\n",
    "plt.figure(); plt.bar(miss.index.astype(str), miss.values)\n",
    "plt.title(\"Missing-Data Fraction (top 20) — Before\"); plt.xticks(rotation=75); plt.ylabel(\"Fraction missing\"); plt.show()\n"
   ]
  },
  {
   "cell_type": "markdown",
   "id": "40351e1c",
   "metadata": {},
   "source": [
    "Closed-date indicator & drop raw"
   ]
  },
  {
   "cell_type": "code",
   "execution_count": 62,
   "id": "907ebcf3",
   "metadata": {},
   "outputs": [],
   "source": [
    "# Build a robust indicator then drop the raw date column\n",
    "if \"date_case_closed\" in crime.columns:\n",
    "    crime[\"closed_has_date\"] = crime[\"date_case_closed\"].notna().astype(int)\n",
    "    # Keep it for modeling/EDA; drop the raw string date to avoid dominating \"missing\" chart\n",
    "    crime = crime.drop(columns=[\"date_case_closed\"])\n"
   ]
  },
  {
   "cell_type": "markdown",
   "id": "5a919eb3",
   "metadata": {},
   "source": [
    "Clean & Normalize Categories\n",
    "\n",
    "Purpose: tidy booleans/text, impute light gaps."
   ]
  },
  {
   "cell_type": "code",
   "execution_count": 63,
   "id": "f800559f",
   "metadata": {},
   "outputs": [],
   "source": [
    "# Example normalizations (adapt to your columns)\n",
    "if \"case_closed\" in crime.columns:\n",
    "    crime[\"case_closed\"] = crime[\"case_closed\"].astype(str).str.strip().str.lower().map(\n",
    "        {\"yes\":1, \"no\":0}\n",
    "    ).fillna(0).astype(int)\n",
    "\n",
    "for col in [\"weapon_used\",\"crime_domain\",\"city\",\"state\",\"district\"]:\n",
    "    if col in crime.columns:\n",
    "        crime[col] = crime[col].astype(str).str.strip().str.title().replace({\"Nan\":\"Unknown\"})\n",
    "\n",
    "# Light imputations for numeric\n",
    "num_cols = crime.select_dtypes(include=[float,int]).columns.tolist()\n",
    "for c in num_cols:\n",
    "    if crime[c].isna().any():\n",
    "        crime[c] = crime[c].fillna(crime[c].median())\n"
   ]
  },
  {
   "cell_type": "markdown",
   "id": "b88296e7",
   "metadata": {},
   "source": [
    "Features: totals & rate\n",
    "\n",
    "Purpose: build total_crimes (row-level = 1, if each row is an incident) and crimes_per_100k if population exists."
   ]
  },
  {
   "cell_type": "code",
   "execution_count": 64,
   "id": "1dad8653",
   "metadata": {},
   "outputs": [],
   "source": [
    "# If each row is an incident, set 1 per row; otherwise sum numeric crime columns.\n",
    "crime[\"incident\"] = 1\n",
    "\n",
    "# Per-100k if population column exists; else we’ll use raw counts.\n",
    "pop_cols = [c for c in crime.columns if \"pop\" in c]\n"
   ]
  },
  {
   "cell_type": "markdown",
   "id": "cbc2b0f6",
   "metadata": {},
   "source": [
    "Classification Dataset Build(min_rows + extra feature)\n",
    "\n",
    "Purpose: aggregate by region (city or district), compute crime rate, make top-quartile label."
   ]
  },
  {
   "cell_type": "code",
   "execution_count": 65,
   "id": "d9630137",
   "metadata": {},
   "outputs": [],
   "source": [
    "region_key = \"city\" if \"city\" in crime.columns else (\"district\" if \"district\" in crime.columns else \"state\")\n",
    "\n",
    "# Require at least N incidents per region so we don't classify on super-sparse groups\n",
    "min_rows = 50\n",
    "region_counts = crime[region_key].value_counts()\n",
    "keep_regions = region_counts[region_counts >= min_rows].index\n",
    "crime_cls = crime[crime[region_key].isin(keep_regions)].copy()\n",
    "\n",
    "grp = crime_cls.groupby(region_key, as_index=False).agg(\n",
    "    total_crimes=(\"incident\",\"sum\"),\n",
    "    police_deployed=(\"police_deployed\",\"median\")\n",
    ")\n",
    "\n",
    "# crimes_per_100k if population exists; else proxy with total_crimes\n",
    "pop_cols = [c for c in crime.columns if \"pop\" in c]\n",
    "if pop_cols:\n",
    "    pc = pop_cols[0]\n",
    "    pop_by_region = crime_cls.groupby(region_key, as_index=False)[pc].median()\n",
    "    grp = grp.merge(pop_by_region, on=region_key, how=\"left\")\n",
    "    grp[\"crimes_per_100k\"] = (grp[\"total_crimes\"] / grp[pc].replace({0:np.nan})) * 1e5\n",
    "    grp[\"crimes_per_100k\"] = grp[\"crimes_per_100k\"].fillna(grp[\"crimes_per_100k\"].median())\n",
    "else:\n",
    "    grp[\"crimes_per_100k\"] = grp[\"total_crimes\"]\n",
    "\n",
    "# Top quartile label\n",
    "th = grp[\"crimes_per_100k\"].quantile(0.75)\n",
    "grp[\"crime_prone\"] = (grp[\"crimes_per_100k\"] >= th).astype(int)\n",
    "\n",
    "# Features: add police_deployed to stabilize SVM boundary\n",
    "X = grp[[\"total_crimes\",\"crimes_per_100k\",\"police_deployed\"]].fillna(grp.median(numeric_only=True))\n",
    "y = grp[\"crime_prone\"]\n"
   ]
  },
  {
   "cell_type": "markdown",
   "id": "acfe76d5",
   "metadata": {},
   "source": [
    "SVM Classification\n",
    "\n",
    "Purpose: fit SVM on numeric summaries; show report + confusion matrix."
   ]
  },
  {
   "cell_type": "code",
   "execution_count": 66,
   "id": "4465ff52",
   "metadata": {},
   "outputs": [
    {
     "name": "stdout",
     "output_type": "stream",
     "text": [
      "              precision    recall  f1-score   support\n",
      "\n",
      "           0     1.0000    1.0000    1.0000         6\n",
      "           1     1.0000    1.0000    1.0000         2\n",
      "\n",
      "    accuracy                         1.0000         8\n",
      "   macro avg     1.0000    1.0000    1.0000         8\n",
      "weighted avg     1.0000    1.0000    1.0000         8\n",
      "\n",
      "Confusion Matrix:\n",
      " [[6 0]\n",
      " [0 2]]\n"
     ]
    }
   ],
   "source": [
    "from sklearn.model_selection import train_test_split\n",
    "from sklearn.preprocessing import StandardScaler\n",
    "from sklearn.pipeline import Pipeline\n",
    "from sklearn.svm import SVC\n",
    "from sklearn.metrics import classification_report, confusion_matrix\n",
    "\n",
    "X = grp[[\"total_crimes\",\"crimes_per_100k\"]].copy()\n",
    "y = grp[\"crime_prone\"]\n",
    "\n",
    "X_tr, X_te, y_tr, y_te = train_test_split(X, y, test_size=0.25, random_state=42, stratify=y)\n",
    "\n",
    "svm = Pipeline([(\"scaler\", StandardScaler()), (\"clf\", SVC(kernel=\"rbf\", C=2.0, gamma=\"scale\", random_state=42))])\n",
    "svm.fit(X_tr, y_tr)\n",
    "pred = svm.predict(X_te)\n",
    "\n",
    "print(classification_report(y_te, pred, digits=4))\n",
    "print(\"Confusion Matrix:\\n\", confusion_matrix(y_te, pred))\n"
   ]
  },
  {
   "cell_type": "markdown",
   "id": "ec112517",
   "metadata": {},
   "source": [
    "Trend Forecast (Monthly, clipped + smoothed)\n",
    "\n",
    "Purpose: aggregate by year (from step 3), then train LR + RF, compare MSE/R², and plot Actual vs Pred."
   ]
  },
  {
   "cell_type": "code",
   "execution_count": 72,
   "id": "7c218b42",
   "metadata": {},
   "outputs": [
    {
     "name": "stdout",
     "output_type": "stream",
     "text": [
      "LinearRegression  MSE=92.83  R²=0.5354\n",
      "RandomForest      MSE=137.51  R²=0.3118\n"
     ]
    },
    {
     "data": {
      "image/png": "[encoded data removed]",
      "text/plain": [
       "<Figure size 640x480 with 1 Axes>"
      ]
     },
     "metadata": {},
     "output_type": "display_data"
    }
   ],
   "source": [
    "# Trend Forecast (Monthly, clipped + smoothed + rolling features)\n",
    "from sklearn.linear_model import LinearRegression\n",
    "from sklearn.ensemble import RandomForestRegressor\n",
    "from sklearn.metrics import mean_squared_error, r2_score\n",
    "import pandas as pd, numpy as np, matplotlib.pyplot as plt\n",
    "\n",
    "# monthly aggregation\n",
    "monthly = (crime.groupby([\"year\",\"month\"], as_index=False)[\"incident\"].sum()\n",
    "                .sort_values([\"year\",\"month\"]))\n",
    "monthly[\"year_month\"] = pd.to_datetime(dict(year=monthly[\"year\"], month=monthly[\"month\"], day=1))\n",
    "\n",
    "# clip incomplete last month\n",
    "median_val = monthly[\"incident\"].median()\n",
    "if len(monthly) > 6 and monthly.iloc[-1][\"incident\"] < 0.8 * median_val:\n",
    "    monthly = monthly.iloc[:-1]\n",
    "\n",
    "# add rolling mean & lag features\n",
    "monthly[\"y\"] = monthly[\"incident\"]\n",
    "monthly[\"y_roll3\"] = monthly[\"y\"].rolling(3, min_periods=1).mean()\n",
    "monthly[\"y_lag1\"] = monthly[\"y\"].shift(1).fillna(method=\"bfill\")\n",
    "\n",
    "# temporal split\n",
    "split = int(len(monthly)*0.8)\n",
    "train, test = monthly.iloc[:split], monthly.iloc[split:]\n",
    "\n",
    "# features: time + lag + rolling\n",
    "trainX = pd.DataFrame({\n",
    "    \"time\": train[\"year\"] + train[\"month\"]/12.0,\n",
    "    \"roll3\": train[\"y_roll3\"],\n",
    "    \"lag1\": train[\"y_lag1\"]\n",
    "})\n",
    "testX = pd.DataFrame({\n",
    "    \"time\": test[\"year\"] + test[\"month\"]/12.0,\n",
    "    \"roll3\": test[\"y_roll3\"],\n",
    "    \"lag1\": test[\"y_lag1\"]\n",
    "})\n",
    "\n",
    "trainY, testY = train[\"y\"], test[\"y\"]\n",
    "\n",
    "# models\n",
    "lr = LinearRegression().fit(trainX, trainY)\n",
    "rf = RandomForestRegressor(n_estimators=400, random_state=42).fit(trainX, trainY)\n",
    "\n",
    "pred_lr = lr.predict(testX)\n",
    "pred_rf = rf.predict(testX)\n",
    "\n",
    "print(f\"LinearRegression  MSE={mean_squared_error(testY,pred_lr):.2f}  R²={r2_score(testY,pred_lr):.4f}\")\n",
    "print(f\"RandomForest      MSE={mean_squared_error(testY,pred_rf):.2f}  R²={r2_score(testY,pred_rf):.4f}\")\n",
    "\n",
    "# plot\n",
    "plt.figure()\n",
    "plt.plot(test[\"year_month\"], testY, marker=\"o\", label=\"Actual\")\n",
    "plt.plot(test[\"year_month\"], pred_rf, marker=\"x\", label=\"Predicted (RF)\")\n",
    "plt.title(\"Crime Trend Forecast (Monthly, improved)\")\n",
    "plt.xlabel(\"Month\"); plt.ylabel(\"Incidents\"); plt.legend(); plt.show()\n"
   ]
  },
  {
   "cell_type": "markdown",
   "id": "1afcaf62",
   "metadata": {},
   "source": [
    "Persist Models\n",
    "\n",
    "Purpose: keep both models for a simple Streamlit demo."
   ]
  },
  {
   "cell_type": "code",
   "execution_count": 73,
   "id": "7af518e1",
   "metadata": {},
   "outputs": [],
   "source": [
    "import numpy as np, json, os, joblib\n",
    "\n",
    "# attach feature names so inference won’t warn\n",
    "rf.feature_names_in_ = np.array(trainX.columns, dtype=object)\n",
    "\n",
    "os.makedirs(\"models\", exist_ok=True)\n",
    "joblib.dump(rf, \"models/crime_trend_rf.joblib\")\n",
    "\n",
    "# also save the expected features for the app\n",
    "with open(\"models/feature_columns_trend.json\",\"w\") as f:\n",
    "    json.dump({\"features_trend\": [\"time\",\"roll3\",\"lag1\"]}, f)\n"
   ]
  },
  {
   "cell_type": "code",
   "execution_count": 74,
   "id": "a3dd1973",
   "metadata": {},
   "outputs": [
    {
     "data": {
      "text/plain": [
       "['models/crime_trend_rf.joblib']"
      ]
     },
     "execution_count": 74,
     "metadata": {},
     "output_type": "execute_result"
    }
   ],
   "source": [
    "import joblib, os\n",
    "os.makedirs(\"models\", exist_ok=True)\n",
    "joblib.dump(svm, \"models/crime_svm.joblib\")\n",
    "joblib.dump(rf,  \"models/crime_trend_rf.joblib\")\n"
   ]
  },
  {
   "cell_type": "markdown",
   "id": "4661addd",
   "metadata": {},
   "source": [
    "Missing-Data Impact (After)\n",
    "\n",
    "Purpose: show improvement post-cleaning."
   ]
  },
  {
   "cell_type": "code",
   "execution_count": 75,
   "id": "fdf5076d",
   "metadata": {},
   "outputs": [
    {
     "data": {
      "image/png": "[encoded data removed]",
      "text/plain": [
       "<Figure size 640x480 with 1 Axes>"
      ]
     },
     "metadata": {},
     "output_type": "display_data"
    }
   ],
   "source": [
    "miss2 = crime.isna().mean().sort_values(ascending=False).head(20)\n",
    "plt.figure(); plt.bar(miss2.index.astype(str), miss2.values)\n",
    "plt.title(\"Missing-Data Fraction (top 20) — After\"); plt.xticks(rotation=75); plt.ylabel(\"Fraction missing\"); plt.show()\n"
   ]
  },
  {
   "cell_type": "markdown",
   "id": "9774f94c",
   "metadata": {},
   "source": [
    "\n",
    "### 🚀(Streamlit quick start)\n",
    "Create a `crime.py` \n",
    "\n",
    "```python\n",
    "# crime.py\n",
    "\n",
    "import streamlit as st\n",
    "import pandas as pd\n",
    "import numpy as np\n",
    "import json, joblib\n",
    "from pathlib import Path\n",
    "\n",
    "st.title(\"Crime Analysis & Forecasting Dashboard\")\n",
    "\n",
    "# ---------- Load models ----------\n",
    "svm_path  = Path(\"models/crime_svm.joblib\")\n",
    "rf_path   = Path(\"models/crime_trend_rf.joblib\")\n",
    "feat_path = Path(\"models/feature_columns_trend.json\")  # optional metadata saved at training\n",
    "\n",
    "svm = joblib.load(svm_path) if svm_path.exists() else None\n",
    "rf  = joblib.load(rf_path)  if rf_path.exists()  else None\n",
    "\n",
    "# Expected features for RF\n",
    "expected_feats = None\n",
    "if feat_path.exists():\n",
    "    try:\n",
    "        expected_feats = json.loads(feat_path.read_text()).get(\"features_trend\")\n",
    "    except Exception:\n",
    "        pass\n",
    "if expected_feats is None and rf is not None:\n",
    "    exp = getattr(rf, \"feature_names_in_\", None)\n",
    "    if exp is not None:\n",
    "        expected_feats = list(exp)\n",
    "if expected_feats is None and rf is not None:\n",
    "    expected_feats = [\"time\"] if getattr(rf, \"n_features_in_\", 1) == 1 else [\"time\",\"roll3\",\"lag1\"]\n",
    "\n",
    "# ---------- Tabs ----------\n",
    "tab1, tab2 = st.tabs([\"🔍 Crime-Prone Classification\", \"📈 Crime Trend Forecast\"])\n",
    "\n",
    "# ------------------ TAB 1: SVM ------------------\n",
    "with tab1:\n",
    "    st.header(\"Classify Region as Crime-Prone\")\n",
    "    total_crimes = st.number_input(\"Total Crimes\", min_value=0, value=500)\n",
    "    crimes_per_100k = st.number_input(\"Crimes per 100k\", min_value=0.0, value=120.0, step=1.0)\n",
    "\n",
    "    if st.button(\"Predict Crime-Prone\"):\n",
    "        if svm is None:\n",
    "            st.error(\"SVM model not found. Train and save it first.\")\n",
    "        else:\n",
    "            X = pd.DataFrame([{\"total_crimes\": total_crimes, \"crimes_per_100k\": crimes_per_100k}])\n",
    "            pred = int(svm.predict(X)[0])\n",
    "            st.success(\"⚠️ Crime-Prone Region\" if pred==1 else \"✅ Safer Region\")\n",
    "\n",
    "# ------------------ TAB 2: RF Trend ------------------\n",
    "with tab2:\n",
    "    st.header(\"Crime Trend Forecast (no upload needed)\")\n",
    "\n",
    "    # 1) Load monthly series or use demo\n",
    "    data_path = Path(\"data/monthly_incidents.csv\")\n",
    "    if data_path.exists():\n",
    "        df = pd.read_csv(data_path)\n",
    "        if {\"Month\",\"Incidents\"} - set(df.columns):\n",
    "            st.error(\"data/monthly_incidents.csv must have columns: Month, Incidents\"); st.stop()\n",
    "        df[\"Month\"] = pd.to_datetime(df[\"Month\"])\n",
    "        df[\"Incidents\"] = pd.to_numeric(df[\"Incidents\"], errors=\"coerce\").fillna(0).astype(int)\n",
    "    else:\n",
    "        months = pd.date_range(\"2023-09\", periods=12, freq=\"MS\")\n",
    "        incidents = [720, 745, 723, 749, 735, 698, 747, 720, 740, 715, 735, 732]\n",
    "        df = pd.DataFrame({\"Month\": months, \"Incidents\": incidents})\n",
    "\n",
    "    st.line_chart(df.set_index(\"Month\"))\n",
    "\n",
    "    # 2) Forecast button\n",
    "    if st.button(\"Forecast\"):\n",
    "        if rf is None:\n",
    "            st.error(\"Regression model not found. Train and save it first.\"); st.stop()\n",
    "\n",
    "        # Build features to MATCH training\n",
    "        df[\"time\"]  = df[\"Month\"].dt.year + df[\"Month\"].dt.month/12.0\n",
    "        df[\"roll3\"] = df[\"Incidents\"].rolling(3, min_periods=1).mean()\n",
    "        df[\"lag1\"]  = df[\"Incidents\"].shift(1).bfill()  # no FutureWarning\n",
    "\n",
    "        # Map model feature names -> df columns\n",
    "        name_map = {\"y_roll3\":\"roll3\", \"y_lag1\":\"lag1\"}\n",
    "        model_cols = [ (c if c in df.columns else name_map.get(c, None)) for c in expected_feats ]\n",
    "        if any(c is None for c in model_cols):\n",
    "            st.error(f\"Expected features {expected_feats} not found. Re-train or update mapping.\"); st.stop()\n",
    "\n",
    "        X = df[model_cols].copy()\n",
    "\n",
    "        try:\n",
    "            df[\"Predicted\"] = rf.predict(X)\n",
    "        except Exception as e:\n",
    "            st.error(f\"Prediction failed: {e}\"); st.stop()\n",
    "\n",
    "        st.line_chart(df.set_index(\"Month\")[[\"Incidents\",\"Predicted\"]])\n",
    "        st.success(f\"Forecast OK · Used features: {model_cols}\")\n",
    "\n",
    "\n",
    "\n",
    "\n",
    "```\n",
    "\n",
    "Run: `streamlit run crime.py`\n"
   ]
  }
 ],
 "metadata": {
  "kernelspec": {
   "display_name": "Python 3",
   "language": "python",
   "name": "python3"
  },
  "language_info": {
   "codemirror_mode": {
    "name": "ipython",
    "version": 3
   },
   "file_extension": ".py",
   "mimetype": "text/x-python",
   "name": "python",
   "nbconvert_exporter": "python",
   "pygments_lexer": "ipython3",
   "version": "3.10.11"
  }
 },
 "nbformat": 4,
 "nbformat_minor": 5
}
