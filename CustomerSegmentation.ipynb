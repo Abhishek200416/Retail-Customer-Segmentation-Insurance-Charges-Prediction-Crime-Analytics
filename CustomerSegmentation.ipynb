{
 "cells": [
  {
   "cell_type": "markdown",
   "id": "3fb5f80a",
   "metadata": {},
   "source": [
    "\n",
    "# **Retail Customer Segmentation (K‑Means)**\n",
    "\n",
    "**Goal:** Use **K‑Means** to cluster customers by behavior, choose K via **Elbow method**, and visualize with **PCA**.  \n",
    "Dataset: https://www.kaggle.com/datasets/yasserh/customer-segmentation-dataset\n"
   ]
  },
  {
   "cell_type": "markdown",
   "id": "2952c79a",
   "metadata": {},
   "source": [
    "\n",
    "## ✅ Requirements Recap\n",
    "- Data preprocessing\n",
    "- Determine optimal K (**Elbow**)\n",
    "- Apply **K‑Means**\n",
    "- **Visualize** clusters (PCA 2‑D)\n"
   ]
  },
  {
   "cell_type": "markdown",
   "id": "935e5f0a",
   "metadata": {},
   "source": [
    "\n",
    "## 🔧 Setup & Data\n",
    "- If using Kaggle CLI, run the (commented) shell below. Otherwise, download the CSV manually and set the path.\n"
   ]
  },
  {
   "cell_type": "code",
   "execution_count": 8,
   "id": "7e293b36",
   "metadata": {},
   "outputs": [
    {
     "name": "stdout",
     "output_type": "stream",
     "text": [
      "Loaded: data/retail_input.csv | shape: (541909, 8)\n",
      "Columns: ['InvoiceNo', 'StockCode', 'Description', 'Quantity', 'InvoiceDate', 'UnitPrice', 'CustomerID', 'Country']\n"
     ]
    }
   ],
   "source": [
    "# Task 2 — Retail Customer Segmentation (K-Means)\n",
    "import os, warnings\n",
    "import numpy as np\n",
    "import pandas as pd\n",
    "warnings.filterwarnings(\"ignore\")\n",
    "\n",
    "RANDOM_STATE = 42\n",
    "np.random.seed(RANDOM_STATE)\n",
    "\n",
    "# Point to your file (XLSX given by org or CSV). We'll auto-handle either.\n",
    "DATA_PATH = \"data/Online Retail.xlsx\"   # change if needed\n",
    "CSV_OUT   = \"data/retail_input.csv\"     # we'll export CSV here if source is xlsx\n",
    "\n",
    "# ---- Load & (if needed) convert XLSX -> CSV ----\n",
    "if DATA_PATH.lower().endswith((\".xlsx\", \".xls\")):\n",
    "    xls = pd.ExcelFile(DATA_PATH)\n",
    "    # If multiple sheets, take the first non-empty\n",
    "    for sh in xls.sheet_names:\n",
    "        df = pd.read_excel(xls, sh)\n",
    "        if len(df) > 0:\n",
    "            break\n",
    "    df.to_csv(CSV_OUT, index=False)\n",
    "    src_csv = CSV_OUT\n",
    "else:\n",
    "    src_csv = DATA_PATH\n",
    "\n",
    "df = pd.read_csv(src_csv)\n",
    "print(\"Loaded:\", src_csv, \"| shape:\", df.shape)\n",
    "print(\"Columns:\", list(df.columns))\n"
   ]
  },
  {
   "cell_type": "code",
   "execution_count": 9,
   "id": "fcffad8b",
   "metadata": {},
   "outputs": [
    {
     "name": "stdout",
     "output_type": "stream",
     "text": [
      "Feature sample:\n"
     ]
    },
    {
     "data": {
      "application/vnd.microsoft.datawrangler.viewer.v0+json": {
       "columns": [
        {
         "name": "CustomerID",
         "rawType": "float64",
         "type": "float"
        },
        {
         "name": "Recency",
         "rawType": "int64",
         "type": "integer"
        },
        {
         "name": "Frequency",
         "rawType": "int64",
         "type": "integer"
        },
        {
         "name": "Monetary",
         "rawType": "float64",
         "type": "float"
        }
       ],
       "ref": "c36908e3-672a-44d4-92c3-c5ec5a18ffe1",
       "rows": [
        [
         "12346.0",
         "326",
         "1",
         "77183.6"
        ],
        [
         "12347.0",
         "2",
         "7",
         "4310.0"
        ],
        [
         "12348.0",
         "75",
         "4",
         "1797.24"
        ],
        [
         "12349.0",
         "19",
         "1",
         "1757.55"
        ],
        [
         "12350.0",
         "310",
         "1",
         "334.4"
        ]
       ],
       "shape": {
        "columns": 3,
        "rows": 5
       }
      },
      "text/html": [
       "<div>\n",
       "<style scoped>\n",
       "    .dataframe tbody tr th:only-of-type {\n",
       "        vertical-align: middle;\n",
       "    }\n",
       "\n",
       "    .dataframe tbody tr th {\n",
       "        vertical-align: top;\n",
       "    }\n",
       "\n",
       "    .dataframe thead th {\n",
       "        text-align: right;\n",
       "    }\n",
       "</style>\n",
       "<table border=\"1\" class=\"dataframe\">\n",
       "  <thead>\n",
       "    <tr style=\"text-align: right;\">\n",
       "      <th></th>\n",
       "      <th>Recency</th>\n",
       "      <th>Frequency</th>\n",
       "      <th>Monetary</th>\n",
       "    </tr>\n",
       "    <tr>\n",
       "      <th>CustomerID</th>\n",
       "      <th></th>\n",
       "      <th></th>\n",
       "      <th></th>\n",
       "    </tr>\n",
       "  </thead>\n",
       "  <tbody>\n",
       "    <tr>\n",
       "      <th>12346.0</th>\n",
       "      <td>326</td>\n",
       "      <td>1</td>\n",
       "      <td>77183.60</td>\n",
       "    </tr>\n",
       "    <tr>\n",
       "      <th>12347.0</th>\n",
       "      <td>2</td>\n",
       "      <td>7</td>\n",
       "      <td>4310.00</td>\n",
       "    </tr>\n",
       "    <tr>\n",
       "      <th>12348.0</th>\n",
       "      <td>75</td>\n",
       "      <td>4</td>\n",
       "      <td>1797.24</td>\n",
       "    </tr>\n",
       "    <tr>\n",
       "      <th>12349.0</th>\n",
       "      <td>19</td>\n",
       "      <td>1</td>\n",
       "      <td>1757.55</td>\n",
       "    </tr>\n",
       "    <tr>\n",
       "      <th>12350.0</th>\n",
       "      <td>310</td>\n",
       "      <td>1</td>\n",
       "      <td>334.40</td>\n",
       "    </tr>\n",
       "  </tbody>\n",
       "</table>\n",
       "</div>"
      ],
      "text/plain": [
       "            Recency  Frequency  Monetary\n",
       "CustomerID                              \n",
       "12346.0         326          1  77183.60\n",
       "12347.0           2          7   4310.00\n",
       "12348.0          75          4   1797.24\n",
       "12349.0          19          1   1757.55\n",
       "12350.0         310          1    334.40"
      ]
     },
     "metadata": {},
     "output_type": "display_data"
    }
   ],
   "source": [
    "# Two common schemas:\n",
    "# A) Mall_Customers: columns like [\"Age\",\"Annual Income (k$)\",\"Spending Score (1-100)\"]\n",
    "# B) Online Retail (UCI-like): [\"InvoiceNo\",\"StockCode\",\"Description\",\"Quantity\",\"InvoiceDate\",\"UnitPrice\",\"CustomerID\",\"Country\"]\n",
    "from pandas.api.types import is_datetime64_any_dtype as is_dt\n",
    "\n",
    "def has_cols(cols): \n",
    "    return all(c in df.columns for c in cols)\n",
    "\n",
    "if has_cols([\"Age\"]) or any(\"Spending Score\" in c for c in df.columns):\n",
    "    # ---- Mall Customers style ----\n",
    "    # keep canonical numeric columns (robust to slight name changes)\n",
    "    col_map = {}\n",
    "    for c in df.columns:\n",
    "        cl = c.lower()\n",
    "        if \"age\" in cl: col_map[\"Age\"] = c\n",
    "        if \"annual\" in cl or \"income\" in cl: col_map[\"AnnualIncome\"] = c\n",
    "        if \"spending\" in cl: col_map[\"SpendingScore\"] = c\n",
    "    use = [col_map[k] for k in [\"Age\",\"AnnualIncome\",\"SpendingScore\"] if k in col_map]\n",
    "    feat = df[use].dropna().copy()\n",
    "    feat.columns = [\"Age\",\"AnnualIncome\",\"SpendingScore\"]\n",
    "    dataset_type = \"mall\"\n",
    "else:\n",
    "    # ---- Online Retail style -> RFM per CustomerID ----\n",
    "    # Clean + RFM features: Recency (days), Frequency (# invoices), Monetary (sum)\n",
    "    tmp = df.copy()\n",
    "    # ensure datetime\n",
    "    if \"InvoiceDate\" in tmp.columns and not is_dt(tmp[\"InvoiceDate\"]):\n",
    "        tmp[\"InvoiceDate\"] = pd.to_datetime(tmp[\"InvoiceDate\"], errors=\"coerce\")\n",
    "    # remove rows without CustomerID and negative quantities (returns)\n",
    "    if \"CustomerID\" in tmp.columns:\n",
    "        tmp = tmp.dropna(subset=[\"CustomerID\"]).copy()\n",
    "    if \"Quantity\" in tmp.columns:\n",
    "        tmp = tmp[tmp[\"Quantity\"] > 0].copy()\n",
    "    # compute monetary\n",
    "    if {\"Quantity\",\"UnitPrice\"} <= set(tmp.columns):\n",
    "        tmp[\"Amount\"] = tmp[\"Quantity\"] * tmp[\"UnitPrice\"]\n",
    "    else:\n",
    "        tmp[\"Amount\"] = 0.0\n",
    "\n",
    "    max_date = tmp[\"InvoiceDate\"].max()\n",
    "    ref_date = (max_date if pd.notna(max_date) else pd.Timestamp.today()) + pd.Timedelta(days=1)\n",
    "\n",
    "    # frequency = distinct invoices; recency = days since last purchase; monetary = sum amount\n",
    "    grp = tmp.groupby(\"CustomerID\")\n",
    "    recency   = (ref_date - grp[\"InvoiceDate\"].max()).dt.days.rename(\"Recency\")\n",
    "    frequency = grp[\"InvoiceNo\"].nunique().rename(\"Frequency\") if \"InvoiceNo\" in tmp.columns else grp.size().rename(\"Frequency\")\n",
    "    monetary  = grp[\"Amount\"].sum().rename(\"Monetary\")\n",
    "    feat = pd.concat([recency, frequency, monetary], axis=1).dropna()\n",
    "    # remove extreme zeros/negatives\n",
    "    feat = feat[(feat[\"Monetary\"] > 0) & (feat[\"Frequency\"] > 0)]\n",
    "    dataset_type = \"retail_rfm\"\n",
    "\n",
    "print(\"Feature sample:\")\n",
    "display(feat.head())\n"
   ]
  },
  {
   "cell_type": "code",
   "execution_count": 10,
   "id": "afc855ba",
   "metadata": {},
   "outputs": [
    {
     "name": "stdout",
     "output_type": "stream",
     "text": [
      "Features used: ['Recency', 'Frequency', 'Monetary'] | scaled shape: (4338, 3)\n"
     ]
    }
   ],
   "source": [
    "from sklearn.preprocessing import StandardScaler\n",
    "\n",
    "scaler = StandardScaler()\n",
    "Xs = scaler.fit_transform(feat.values)\n",
    "feature_names = list(feat.columns)\n",
    "print(\"Features used:\", feature_names, \"| scaled shape:\", Xs.shape)\n"
   ]
  },
  {
   "cell_type": "code",
   "execution_count": 11,
   "id": "55e192aa",
   "metadata": {},
   "outputs": [
    {
     "data": {
      "image/png": "[encoded data removed]",
      "text/plain": [
       "<Figure size 640x480 with 1 Axes>"
      ]
     },
     "metadata": {},
     "output_type": "display_data"
    },
    {
     "name": "stdout",
     "output_type": "stream",
     "text": [
      "Tip: pick K at the 'bend' (often 4–6).\n"
     ]
    }
   ],
   "source": [
    "import matplotlib.pyplot as plt\n",
    "from sklearn.cluster import KMeans\n",
    "\n",
    "Ks, inertias = list(range(2, 11)), []\n",
    "for k in Ks:\n",
    "    km = KMeans(n_clusters=k, random_state=RANDOM_STATE, n_init=10)\n",
    "    km.fit(Xs)\n",
    "    inertias.append(km.inertia_)\n",
    "\n",
    "plt.figure()\n",
    "plt.plot(Ks, inertias, marker=\"o\")\n",
    "plt.title(\"Elbow Method\")\n",
    "plt.xlabel(\"K\"); plt.ylabel(\"Inertia\")\n",
    "plt.show()\n",
    "\n",
    "print(\"Tip: pick K at the 'bend' (often 4–6).\")\n"
   ]
  },
  {
   "cell_type": "code",
   "execution_count": 12,
   "id": "4c24c282",
   "metadata": {},
   "outputs": [
    {
     "data": {
      "application/vnd.microsoft.datawrangler.viewer.v0+json": {
       "columns": [
        {
         "name": "cluster",
         "rawType": "int32",
         "type": "integer"
        },
        {
         "name": "count",
         "rawType": "int64",
         "type": "integer"
        }
       ],
       "ref": "1e84e413-0858-4082-b0b2-0bf1e72a5387",
       "rows": [
        [
         "0",
         "213"
        ],
        [
         "1",
         "6"
        ],
        [
         "2",
         "1061"
        ],
        [
         "3",
         "3050"
        ],
        [
         "4",
         "8"
        ]
       ],
       "shape": {
        "columns": 1,
        "rows": 5
       }
      },
      "text/plain": [
       "cluster\n",
       "0     213\n",
       "1       6\n",
       "2    1061\n",
       "3    3050\n",
       "4       8\n",
       "Name: count, dtype: int64"
      ]
     },
     "metadata": {},
     "output_type": "display_data"
    }
   ],
   "source": [
    "K_FINAL = 5  # set from elbow\n",
    "kmeans = KMeans(n_clusters=K_FINAL, random_state=RANDOM_STATE, n_init=20)\n",
    "labels = kmeans.fit_predict(Xs)\n",
    "\n",
    "seg = feat.copy()\n",
    "seg[\"cluster\"] = labels\n",
    "display(seg[\"cluster\"].value_counts().sort_index())\n"
   ]
  },
  {
   "cell_type": "code",
   "execution_count": 13,
   "id": "67b53b07",
   "metadata": {},
   "outputs": [
    {
     "data": {
      "image/png": "[encoded data removed]",
      "text/plain": [
       "<Figure size 640x480 with 1 Axes>"
      ]
     },
     "metadata": {},
     "output_type": "display_data"
    }
   ],
   "source": [
    "from sklearn.decomposition import PCA\n",
    "import matplotlib.pyplot as plt\n",
    "import numpy as np\n",
    "\n",
    "pca = PCA(n_components=2, random_state=RANDOM_STATE)\n",
    "XY = pca.fit_transform(Xs)\n",
    "\n",
    "plt.figure()\n",
    "for lab in np.unique(labels):\n",
    "    pts = XY[labels==lab]\n",
    "    plt.scatter(pts[:,0], pts[:,1], label=f\"Cluster {lab}\")\n",
    "plt.title(\"Customer Clusters (PCA 2D)\")\n",
    "plt.xlabel(\"PC1\"); plt.ylabel(\"PC2\")\n",
    "plt.legend()\n",
    "plt.show()\n"
   ]
  },
  {
   "cell_type": "code",
   "execution_count": 14,
   "id": "02415fb3",
   "metadata": {},
   "outputs": [
    {
     "data": {
      "application/vnd.microsoft.datawrangler.viewer.v0+json": {
       "columns": [
        {
         "name": "cluster",
         "rawType": "int32",
         "type": "integer"
        },
        {
         "name": "Recency",
         "rawType": "float64",
         "type": "float"
        },
        {
         "name": "Frequency",
         "rawType": "float64",
         "type": "float"
        },
        {
         "name": "Monetary",
         "rawType": "float64",
         "type": "float"
        }
       ],
       "ref": "f50df4f9-69d9-4876-b272-6dfa9091058f",
       "rows": [
        [
         "0",
         "15.67",
         "21.29",
         "12831.74"
        ],
        [
         "1",
         "7.67",
         "43.0",
         "190863.46"
        ],
        [
         "2",
         "248.66",
         "1.55",
         "478.19"
        ],
        [
         "3",
         "43.99",
         "3.65",
         "1338.75"
        ],
        [
         "4",
         "6.5",
         "120.62",
         "55312.69"
        ]
       ],
       "shape": {
        "columns": 3,
        "rows": 5
       }
      },
      "text/html": [
       "<div>\n",
       "<style scoped>\n",
       "    .dataframe tbody tr th:only-of-type {\n",
       "        vertical-align: middle;\n",
       "    }\n",
       "\n",
       "    .dataframe tbody tr th {\n",
       "        vertical-align: top;\n",
       "    }\n",
       "\n",
       "    .dataframe thead th {\n",
       "        text-align: right;\n",
       "    }\n",
       "</style>\n",
       "<table border=\"1\" class=\"dataframe\">\n",
       "  <thead>\n",
       "    <tr style=\"text-align: right;\">\n",
       "      <th></th>\n",
       "      <th>Recency</th>\n",
       "      <th>Frequency</th>\n",
       "      <th>Monetary</th>\n",
       "    </tr>\n",
       "    <tr>\n",
       "      <th>cluster</th>\n",
       "      <th></th>\n",
       "      <th></th>\n",
       "      <th></th>\n",
       "    </tr>\n",
       "  </thead>\n",
       "  <tbody>\n",
       "    <tr>\n",
       "      <th>0</th>\n",
       "      <td>15.67</td>\n",
       "      <td>21.29</td>\n",
       "      <td>12831.74</td>\n",
       "    </tr>\n",
       "    <tr>\n",
       "      <th>1</th>\n",
       "      <td>7.67</td>\n",
       "      <td>43.00</td>\n",
       "      <td>190863.46</td>\n",
       "    </tr>\n",
       "    <tr>\n",
       "      <th>2</th>\n",
       "      <td>248.66</td>\n",
       "      <td>1.55</td>\n",
       "      <td>478.19</td>\n",
       "    </tr>\n",
       "    <tr>\n",
       "      <th>3</th>\n",
       "      <td>43.99</td>\n",
       "      <td>3.65</td>\n",
       "      <td>1338.75</td>\n",
       "    </tr>\n",
       "    <tr>\n",
       "      <th>4</th>\n",
       "      <td>6.50</td>\n",
       "      <td>120.62</td>\n",
       "      <td>55312.69</td>\n",
       "    </tr>\n",
       "  </tbody>\n",
       "</table>\n",
       "</div>"
      ],
      "text/plain": [
       "         Recency  Frequency   Monetary\n",
       "cluster                               \n",
       "0          15.67      21.29   12831.74\n",
       "1           7.67      43.00  190863.46\n",
       "2         248.66       1.55     478.19\n",
       "3          43.99       3.65    1338.75\n",
       "4           6.50     120.62   55312.69"
      ]
     },
     "metadata": {},
     "output_type": "display_data"
    },
    {
     "name": "stdout",
     "output_type": "stream",
     "text": [
      "Saved: outputs/task2_clusters.csv and models/*.joblib\n"
     ]
    }
   ],
   "source": [
    "# numeric profile by cluster\n",
    "profile = seg.groupby(\"cluster\").mean(numeric_only=True)\n",
    "display(profile.round(2))\n",
    "\n",
    "# Save labeled data and artifacts\n",
    "os.makedirs(\"outputs\", exist_ok=True)\n",
    "os.makedirs(\"models\", exist_ok=True)\n",
    "seg.to_csv(\"outputs/task2_clusters.csv\", index=False)\n",
    "\n",
    "# (optional) persist model + scaler for deploy\n",
    "import joblib, json\n",
    "joblib.dump(kmeans, \"models/task2_kmeans.joblib\")\n",
    "joblib.dump(scaler, \"models/task2_scaler.joblib\")\n",
    "with open(\"models/task2_feature_names.json\",\"w\") as f:\n",
    "    json.dump({\"features\": feature_names, \"dataset_type\": dataset_type}, f)\n",
    "\n",
    "print(\"Saved: outputs/task2_clusters.csv and models/*.joblib\")\n"
   ]
  }
 ],
 "metadata": {
  "kernelspec": {
   "display_name": "Python 3",
   "language": "python",
   "name": "python3"
  },
  "language_info": {
   "codemirror_mode": {
    "name": "ipython",
    "version": 3
   },
   "file_extension": ".py",
   "mimetype": "text/x-python",
   "name": "python",
   "nbconvert_exporter": "python",
   "pygments_lexer": "ipython3",
   "version": "3.10.11"
  }
 },
 "nbformat": 4,
 "nbformat_minor": 5
}
